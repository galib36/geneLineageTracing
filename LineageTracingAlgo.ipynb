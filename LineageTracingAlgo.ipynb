{
 "cells": [
  {
   "cell_type": "code",
   "execution_count": 135,
   "id": "f9a4da92-3050-460e-8b56-addf4a295729",
   "metadata": {},
   "outputs": [],
   "source": [
    "import numpy as np\n",
    "import pandas as pd\n",
    "import scanpy as sc\n",
    "import seaborn as sns\n",
    "import matplotlib.pyplot as plt\n",
    "import math\n",
    "from scipy import stats\n",
    "import statistics\n",
    "import matplotlib as mpl\n",
    "from matplotlib import rcParams\n",
    "#import loompy as lp\n",
    "#from MulticoreTSNE import MulticoreTSNE as TSNE\n",
    "from matplotlib.pyplot import rc_context\n",
    "from matplotlib import pyplot as plt "
   ]
  },
  {
   "cell_type": "code",
   "execution_count": 2,
   "id": "d0f7073b-b57f-4b23-9ac9-36270d826b6e",
   "metadata": {},
   "outputs": [],
   "source": [
    "adata = sc.read_h5ad('all_data_aggr_scanpy_v2.h5ad')"
   ]
  },
  {
   "cell_type": "code",
   "execution_count": 3,
   "id": "ada6e02b-f348-4a9f-b18d-f60939799d11",
   "metadata": {},
   "outputs": [],
   "source": [
    "adata.obs['TimePoints'] = 'Adult'"
   ]
  },
  {
   "cell_type": "code",
   "execution_count": 4,
   "id": "ddde738e-0f7d-4702-83ca-bc66953830d0",
   "metadata": {},
   "outputs": [],
   "source": [
    "adata.obs.loc[adata.obs['Sample'].isin(['8W_rep1','8W_rep2']),'TimePoints'] = 'Embryo'\n",
    "adata.obs.loc[adata.obs['Sample'].isin(['12W_rep1','12W_rep2']),'TimePoints'] = 'Fetal'"
   ]
  },
  {
   "cell_type": "code",
   "execution_count": 5,
   "id": "db3ef37e-5c3e-4323-afb8-9cbe7b938964",
   "metadata": {},
   "outputs": [
    {
     "data": {
      "text/html": [
       "<div>\n",
       "<style scoped>\n",
       "    .dataframe tbody tr th:only-of-type {\n",
       "        vertical-align: middle;\n",
       "    }\n",
       "\n",
       "    .dataframe tbody tr th {\n",
       "        vertical-align: top;\n",
       "    }\n",
       "\n",
       "    .dataframe thead th {\n",
       "        text-align: right;\n",
       "    }\n",
       "</style>\n",
       "<table border=\"1\" class=\"dataframe\">\n",
       "  <thead>\n",
       "    <tr style=\"text-align: right;\">\n",
       "      <th></th>\n",
       "      <th>count</th>\n",
       "    </tr>\n",
       "    <tr>\n",
       "      <th>Sample</th>\n",
       "      <th></th>\n",
       "    </tr>\n",
       "  </thead>\n",
       "  <tbody>\n",
       "    <tr>\n",
       "      <th>12W_rep1</th>\n",
       "      <td>10151</td>\n",
       "    </tr>\n",
       "    <tr>\n",
       "      <th>12W_rep2</th>\n",
       "      <td>7306</td>\n",
       "    </tr>\n",
       "    <tr>\n",
       "      <th>8W_rep1</th>\n",
       "      <td>4703</td>\n",
       "    </tr>\n",
       "    <tr>\n",
       "      <th>RL11</th>\n",
       "      <td>2765</td>\n",
       "    </tr>\n",
       "    <tr>\n",
       "      <th>8W_rep2</th>\n",
       "      <td>2576</td>\n",
       "    </tr>\n",
       "    <tr>\n",
       "      <th>RL13</th>\n",
       "      <td>2219</td>\n",
       "    </tr>\n",
       "    <tr>\n",
       "      <th>RL12</th>\n",
       "      <td>446</td>\n",
       "    </tr>\n",
       "  </tbody>\n",
       "</table>\n",
       "</div>"
      ],
      "text/plain": [
       "          count\n",
       "Sample         \n",
       "12W_rep1  10151\n",
       "12W_rep2   7306\n",
       "8W_rep1    4703\n",
       "RL11       2765\n",
       "8W_rep2    2576\n",
       "RL13       2219\n",
       "RL12        446"
      ]
     },
     "execution_count": 5,
     "metadata": {},
     "output_type": "execute_result"
    }
   ],
   "source": [
    "pd.DataFrame(adata.obs.Sample.value_counts())"
   ]
  },
  {
   "cell_type": "code",
   "execution_count": 6,
   "id": "daaecc1f-5d94-4d3f-a260-a654a40f8cc9",
   "metadata": {},
   "outputs": [],
   "source": [
    "def identify_lineage_tracing(adata, timePoint_by, cluster_group, cellType_trace, min_cells_in_cluster=10):\n",
    "    adata_list = {} # Making dictionary\n",
    "    #adata_list = {group:adata[adata.obs['TimePoints'].isin([group])] }\n",
    "    \n",
    "        \n",
    "    for group in adata.obs[timePoint_by].value_counts().index:\n",
    "        #print(f\"adata_{group}\")\n",
    "        print(f\"{group}\")\n",
    "        adata_tmp = adata[adata.obs[timePoint_by].isin([group])]\n",
    "        clusters_to_remove = adata_tmp.obs[cluster_group].value_counts().index[adata_tmp.obs[cluster_group].value_counts() < min_cells_in_cluster].values\n",
    "        adata_tmp =  adata_tmp[~adata_tmp.obs[cluster_group].isin(clusters_to_remove.tolist()),:]\n",
    "        adata_list[group] = adata_tmp\n",
    "        sc.tl.rank_genes_groups(adata_list[group], groupby=cluster_group, method='wilcoxon')       \n",
    "    \n",
    "    \n",
    "    \n",
    "    return adata_list"
   ]
  },
  {
   "cell_type": "code",
   "execution_count": 7,
   "id": "77a9ac24-d424-43ca-96bd-3407825f77a5",
   "metadata": {},
   "outputs": [
    {
     "name": "stdout",
     "output_type": "stream",
     "text": [
      "Fetal\n"
     ]
    },
    {
     "name": "stderr",
     "output_type": "stream",
     "text": [
      "/home/mqbsxsm2/anaconda3/envs/r4/lib/python3.9/site-packages/anndata/_core/anndata.py:1222: ImplicitModificationWarning: Trying to modify attribute `.obs` of view, initializing view as actual.\n",
      "  df[key] = c\n"
     ]
    },
    {
     "name": "stdout",
     "output_type": "stream",
     "text": [
      "Embryo\n"
     ]
    },
    {
     "name": "stderr",
     "output_type": "stream",
     "text": [
      "/home/mqbsxsm2/anaconda3/envs/r4/lib/python3.9/site-packages/anndata/_core/anndata.py:1222: ImplicitModificationWarning: Trying to modify attribute `.obs` of view, initializing view as actual.\n",
      "  df[key] = c\n"
     ]
    },
    {
     "name": "stdout",
     "output_type": "stream",
     "text": [
      "Adult\n"
     ]
    },
    {
     "name": "stderr",
     "output_type": "stream",
     "text": [
      "/home/mqbsxsm2/anaconda3/envs/r4/lib/python3.9/site-packages/anndata/_core/anndata.py:1222: ImplicitModificationWarning: Trying to modify attribute `.obs` of view, initializing view as actual.\n",
      "  df[key] = c\n"
     ]
    }
   ],
   "source": [
    "adata_list = identify_lineage_tracing(adata, timePoint_by='TimePoints', \n",
    "                                      cluster_group='louvain_0.4', cellType_trace=['4','20'], min_cells_in_cluster=10)"
   ]
  },
  {
   "cell_type": "code",
   "execution_count": 8,
   "id": "dcad062b-bd5c-4238-8afd-537068bf08bd",
   "metadata": {},
   "outputs": [
    {
     "data": {
      "text/plain": [
       "louvain_0.4\n",
       "2     2631\n",
       "4     2141\n",
       "7     1503\n",
       "17     517\n",
       "20     413\n",
       "10      67\n",
       "Name: count, dtype: int64"
      ]
     },
     "execution_count": 8,
     "metadata": {},
     "output_type": "execute_result"
    }
   ],
   "source": [
    "adata_list['Embryo'].obs['louvain_0.4'].value_counts()"
   ]
  },
  {
   "cell_type": "code",
   "execution_count": 55,
   "id": "25b15278-6813-4156-a772-f988c50144e2",
   "metadata": {},
   "outputs": [],
   "source": [
    "def calculate_marker_genes(adata_list, marker_gene_len=5000):\n",
    "    de_results = {}\n",
    "    for dc in adata_list:\n",
    "        print(dc)\n",
    "        result = adata_list[dc].uns['rank_genes_groups']\n",
    "        groups = result['names'].dtype.names\n",
    "        de_results[dc] = pd.DataFrame(\n",
    "                                {group + '_' + key[:1]: result[key][group]\n",
    "                                    for group in groups for key in ['names', 'pvals','logfoldchanges']}).head(marker_gene_len)\n",
    "        \n",
    "    return de_results\n"
   ]
  },
  {
   "cell_type": "code",
   "execution_count": 61,
   "id": "e111cbd5-e4c0-41d6-b8cb-21ae08906144",
   "metadata": {},
   "outputs": [
    {
     "name": "stdout",
     "output_type": "stream",
     "text": [
      "Fetal\n",
      "Embryo\n",
      "Adult\n"
     ]
    }
   ],
   "source": [
    "de_results = calculate_marker_genes(adata_list, marker_gene_len=5000)"
   ]
  },
  {
   "cell_type": "code",
   "execution_count": 147,
   "id": "fbdc7120-27fd-4976-a6a8-e344ecb95188",
   "metadata": {},
   "outputs": [],
   "source": [
    "def calculate_lineage(geneNames, de_results, source_timepoint, target_timepoint, source_cluster, source_gene_num=100, target_gene_number=500):\n",
    "    \n",
    "    geneName = geneNames[0]\n",
    "    res = de_results[target_timepoint][de_results[target_timepoint].isin(geneName)].stack(0)    \n",
    "    source_to_target = res.reset_index(level=[0,1])\n",
    " \n",
    "    for i in range(1,geneNames.shape[0]):\n",
    "        geneName = geneNames[i]\n",
    "        res = de_results[target_timepoint][de_results[target_timepoint].isin(geneName)].stack(0)    \n",
    "        source_to_target=pd.concat([source_to_target,res.reset_index(level=[0,1])], ignore_index=True)\n",
    "    \n",
    "    source_to_target.rename(columns={'level_0':'row_rank','level_1':'cluster',0:'gene'}, inplace=True)\n",
    "    \n",
    "    return source_to_target"
   ]
  },
  {
   "cell_type": "code",
   "execution_count": 105,
   "id": "e608c4da-ed8b-45d2-8625-2d802834abd3",
   "metadata": {},
   "outputs": [
    {
     "data": {
      "text/plain": [
       "(100, 1)"
      ]
     },
     "execution_count": 105,
     "metadata": {},
     "output_type": "execute_result"
    }
   ],
   "source": [
    "geneNames = de_results[source_timepoint][[source_cluster]].iloc[0:100].values\n",
    "geneNames.shape"
   ]
  },
  {
   "cell_type": "code",
   "execution_count": 86,
   "id": "5b92cf3c-96aa-4b32-97e4-108f962dfe64",
   "metadata": {},
   "outputs": [],
   "source": [
    "fet_to_adult = calculate_lineage(geneNames, de_results, source_timepoint = 'Embryo',target_timepoint = 'Adult', source_cluster = '20_n')"
   ]
  },
  {
   "cell_type": "code",
   "execution_count": 87,
   "id": "d361948d-fe5a-43df-ab3d-5197acd753d0",
   "metadata": {},
   "outputs": [
    {
     "data": {
      "text/html": [
       "<div>\n",
       "<style scoped>\n",
       "    .dataframe tbody tr th:only-of-type {\n",
       "        vertical-align: middle;\n",
       "    }\n",
       "\n",
       "    .dataframe tbody tr th {\n",
       "        vertical-align: top;\n",
       "    }\n",
       "\n",
       "    .dataframe thead th {\n",
       "        text-align: right;\n",
       "    }\n",
       "</style>\n",
       "<table border=\"1\" class=\"dataframe\">\n",
       "  <thead>\n",
       "    <tr style=\"text-align: right;\">\n",
       "      <th></th>\n",
       "      <th>row_rank</th>\n",
       "      <th>cluster</th>\n",
       "      <th>gene</th>\n",
       "    </tr>\n",
       "  </thead>\n",
       "  <tbody>\n",
       "    <tr>\n",
       "      <th>0</th>\n",
       "      <td>31</td>\n",
       "      <td>11_n</td>\n",
       "      <td>TNS3</td>\n",
       "    </tr>\n",
       "    <tr>\n",
       "      <th>1</th>\n",
       "      <td>1358</td>\n",
       "      <td>11_n</td>\n",
       "      <td>FRMD4A</td>\n",
       "    </tr>\n",
       "    <tr>\n",
       "      <th>2</th>\n",
       "      <td>2218</td>\n",
       "      <td>0_n</td>\n",
       "      <td>FRMD4A</td>\n",
       "    </tr>\n",
       "    <tr>\n",
       "      <th>3</th>\n",
       "      <td>823</td>\n",
       "      <td>0_n</td>\n",
       "      <td>PRDM6</td>\n",
       "    </tr>\n",
       "    <tr>\n",
       "      <th>4</th>\n",
       "      <td>0</td>\n",
       "      <td>0_n</td>\n",
       "      <td>PRKG1</td>\n",
       "    </tr>\n",
       "    <tr>\n",
       "      <th>...</th>\n",
       "      <td>...</td>\n",
       "      <td>...</td>\n",
       "      <td>...</td>\n",
       "    </tr>\n",
       "    <tr>\n",
       "      <th>136</th>\n",
       "      <td>185</td>\n",
       "      <td>0_n</td>\n",
       "      <td>PBX1</td>\n",
       "    </tr>\n",
       "    <tr>\n",
       "      <th>137</th>\n",
       "      <td>574</td>\n",
       "      <td>0_n</td>\n",
       "      <td>PCDH7</td>\n",
       "    </tr>\n",
       "    <tr>\n",
       "      <th>138</th>\n",
       "      <td>1</td>\n",
       "      <td>18_n</td>\n",
       "      <td>ST6GALNAC3</td>\n",
       "    </tr>\n",
       "    <tr>\n",
       "      <th>139</th>\n",
       "      <td>1501</td>\n",
       "      <td>11_n</td>\n",
       "      <td>ST6GALNAC3</td>\n",
       "    </tr>\n",
       "    <tr>\n",
       "      <th>140</th>\n",
       "      <td>2616</td>\n",
       "      <td>11_n</td>\n",
       "      <td>AC092691.1</td>\n",
       "    </tr>\n",
       "  </tbody>\n",
       "</table>\n",
       "<p>141 rows × 3 columns</p>\n",
       "</div>"
      ],
      "text/plain": [
       "     row_rank cluster        gene\n",
       "0          31    11_n        TNS3\n",
       "1        1358    11_n      FRMD4A\n",
       "2        2218     0_n      FRMD4A\n",
       "3         823     0_n       PRDM6\n",
       "4           0     0_n       PRKG1\n",
       "..        ...     ...         ...\n",
       "136       185     0_n        PBX1\n",
       "137       574     0_n       PCDH7\n",
       "138         1    18_n  ST6GALNAC3\n",
       "139      1501    11_n  ST6GALNAC3\n",
       "140      2616    11_n  AC092691.1\n",
       "\n",
       "[141 rows x 3 columns]"
      ]
     },
     "execution_count": 87,
     "metadata": {},
     "output_type": "execute_result"
    }
   ],
   "source": [
    "fet_to_adult"
   ]
  },
  {
   "cell_type": "code",
   "execution_count": 91,
   "id": "567b47b3-dd5c-4300-b91c-93c93b1ee33a",
   "metadata": {},
   "outputs": [],
   "source": [
    "def get_mapped_gene_number(df_s_to_t,clusterName, group_by='cluster'):\n",
    "    grouped = df_s_to_t.groupby([group_by])\n",
    "    df1 = grouped.get_group(clusterName)\n",
    "    return df1.shape[0]"
   ]
  },
  {
   "cell_type": "code",
   "execution_count": 92,
   "id": "1bc1e32f-d642-407b-b8fe-8d445090c3e4",
   "metadata": {},
   "outputs": [
    {
     "data": {
      "text/plain": [
       "81"
      ]
     },
     "execution_count": 92,
     "metadata": {},
     "output_type": "execute_result"
    }
   ],
   "source": [
    "get_mapped_gene_number(fet_to_adult, clusterName='0_n')"
   ]
  },
  {
   "cell_type": "code",
   "execution_count": 155,
   "id": "6ec04bd3-68e9-44e4-9e56-87e50a997c8e",
   "metadata": {},
   "outputs": [],
   "source": [
    "def get_bootstrap_numbers(iter=100):\n",
    "    mapped_gene_number = np.array([])\n",
    "    all_embryo_gene = adata.var.index\n",
    "    for i in range(1,iter):\n",
    "        geneNames = np.reshape(np.random.choice(all_embryo_gene, size=100), (-1,1))\n",
    "        fet_to_adult = calculate_lineage(geneNames, de_results, source_timepoint = 'Embryo',target_timepoint = 'Adult', source_cluster = '20_n')\n",
    "        mapCount = get_mapped_gene_number(fet_to_adult, clusterName='0_n')\n",
    "        mapped_gene_number = np.append(mapped_gene_number,mapCount)\n",
    "        \n",
    "    return mapped_gene_number"
   ]
  },
  {
   "cell_type": "code",
   "execution_count": 175,
   "id": "42bc53a2-5635-4561-bc9d-c3649cbb62d9",
   "metadata": {},
   "outputs": [],
   "source": [
    "from multiprocessing import Pool\n",
    "def get_bootstrap_numbers_multicore(iter):\n",
    "    #mapped_gene_number = np.array([])\n",
    "    all_embryo_gene = adata.var.index\n",
    "    \n",
    "    geneNames = np.reshape(np.random.choice(all_embryo_gene, size=100), (-1,1))\n",
    "    fet_to_adult = calculate_lineage(geneNames, de_results, source_timepoint = 'Embryo',target_timepoint = 'Adult', source_cluster = '20_n')\n",
    "    mapCount = get_mapped_gene_number(fet_to_adult, clusterName='0_n')\n",
    "    #mapped_gene_number = np.append(mapped_gene_number,mapCount)\n",
    "        \n",
    "    return mapCount"
   ]
  },
  {
   "cell_type": "code",
   "execution_count": 182,
   "id": "81260703-782f-43e8-8ce9-c2d77b482260",
   "metadata": {},
   "outputs": [],
   "source": [
    "iter=10000\n",
    "mapped_gene_number = np.array([])\n",
    "with Pool(processes=4) as pool:\n",
    "    for mapCount in pool.map(get_bootstrap_numbers_multicore, range(iter)):\n",
    "        mapped_gene_number = np.append(mapped_gene_number,mapCount)"
   ]
  },
  {
   "cell_type": "code",
   "execution_count": 192,
   "id": "855ec52d-d6be-4542-8a91-a19fe52202d7",
   "metadata": {},
   "outputs": [],
   "source": [
    "from tqdm import tqdm\n",
    "def run_imap_unordered_multiprocessing(func, argument_list, num_processes):\n",
    "\n",
    "    pool = Pool(processes=num_processes)\n",
    "\n",
    "    result_list_tqdm = []\n",
    "    for result in tqdm(pool.imap_unordered(func=func, iterable=argument_list), total=len(argument_list)):\n",
    "        result_list_tqdm.append(result)\n",
    "\n",
    "    return result_list_tqdm"
   ]
  },
  {
   "cell_type": "code",
   "execution_count": 193,
   "id": "08db7fd7-5fd3-4181-8a45-6e7baf3babea",
   "metadata": {},
   "outputs": [
    {
     "name": "stderr",
     "output_type": "stream",
     "text": [
      "100%|███████████████████████████████████████████████████████████████████████| 10000/10000 [1:15:18<00:00,  2.21it/s]\n"
     ]
    }
   ],
   "source": [
    "iter=10000\n",
    "mapped_gene_number_tqdm = run_imap_unordered_multiprocessing(get_bootstrap_numbers_multicore, range(iter), num_processes=4)"
   ]
  },
  {
   "cell_type": "code",
   "execution_count": 194,
   "id": "de7672fd-ab25-4790-99b0-03cb4ff747b3",
   "metadata": {},
   "outputs": [
    {
     "data": {
      "text/plain": [
       "[39, 39, 39, 42, 42, 42, 42, 33, 33]"
      ]
     },
     "execution_count": 194,
     "metadata": {},
     "output_type": "execute_result"
    }
   ],
   "source": [
    "mapped_gene_number_tqdm[1:10]"
   ]
  },
  {
   "cell_type": "code",
   "execution_count": 183,
   "id": "3b2c1300-03ec-4051-8358-523195c3fd60",
   "metadata": {},
   "outputs": [
    {
     "data": {
      "text/plain": [
       "array([39., 42., 33., 44., 39., 46., 45., 42., 42., 46.])"
      ]
     },
     "execution_count": 183,
     "metadata": {},
     "output_type": "execute_result"
    }
   ],
   "source": [
    "mapped_gene_number[0:10]"
   ]
  },
  {
   "cell_type": "code",
   "execution_count": 184,
   "id": "2758a63b-64ff-4a41-a8e2-376fb1a12bdb",
   "metadata": {},
   "outputs": [],
   "source": [
    "#mapped_gene_number = get_bootstrap_numbers(iter=10000)"
   ]
  },
  {
   "cell_type": "code",
   "execution_count": 195,
   "id": "ed213c55-8129-4ee4-a876-edb291543bf9",
   "metadata": {},
   "outputs": [
    {
     "name": "stdout",
     "output_type": "stream",
     "text": [
      "[   4    8   20   28   60   88  140  156  255  420  510  552  642  734\n",
      "  880 1508  713  807  584  496  342  324  237  136  142   68   52   52\n",
      "   22   20]\n",
      "[26.         27.06666667 28.13333333 29.2        30.26666667 31.33333333\n",
      " 32.4        33.46666667 34.53333333 35.6        36.66666667 37.73333333\n",
      " 38.8        39.86666667 40.93333333 42.         43.06666667 44.13333333\n",
      " 45.2        46.26666667 47.33333333 48.4        49.46666667 50.53333333\n",
      " 51.6        52.66666667 53.73333333 54.8        55.86666667 56.93333333\n",
      " 58.        ]\n"
     ]
    }
   ],
   "source": [
    "#np.histogram(a,bins = [0,20,40,60,80,100]) \n",
    "hist,bins = np.histogram(mapped_gene_number_tqdm,bins = 30) \n",
    "print(hist)\n",
    "print(bins)"
   ]
  },
  {
   "cell_type": "code",
   "execution_count": 196,
   "id": "1db89824-8cae-41a1-83ef-cbabba050c36",
   "metadata": {},
   "outputs": [
    {
     "data": {
      "text/plain": [
       "array([33., 52.])"
      ]
     },
     "execution_count": 196,
     "metadata": {},
     "output_type": "execute_result"
    }
   ],
   "source": [
    "np.percentile(mapped_gene_number_tqdm, [2.5,97.5])# 95% C.I."
   ]
  },
  {
   "cell_type": "code",
   "execution_count": 197,
   "id": "c5a2e04f-d346-4f63-9f33-48c5ba3a22ce",
   "metadata": {},
   "outputs": [
    {
     "data": {
      "image/png": "[encoded data removed]",
      "text/plain": [
       "<Figure size 432x288 with 1 Axes>"
      ]
     },
     "metadata": {
      "needs_background": "light"
     },
     "output_type": "display_data"
    }
   ],
   "source": [
    "plt.hist(mapped_gene_number_tqdm, bins=30) \n",
    "plt.title(\"Number of gene hits in C0\") \n",
    "plt.savefig('C0_genehits_hist.jpg')\n",
    "plt.show()"
   ]
  },
  {
   "cell_type": "code",
   "execution_count": 190,
   "id": "cdcd0788-54f3-4921-8445-97bb1ad8afb6",
   "metadata": {},
   "outputs": [
    {
     "name": "stdout",
     "output_type": "stream",
     "text": [
      "^C\n",
      "\n",
      "CondaError: KeyboardInterrupt\n",
      "\n"
     ]
    }
   ],
   "source": [
    "!conda install -c conda-forge tqdm"
   ]
  },
  {
   "cell_type": "code",
   "execution_count": 164,
   "id": "ff3a2e80-1f31-4813-a2e6-db8c007bfcb9",
   "metadata": {},
   "outputs": [
    {
     "data": {
      "text/plain": [
       "81"
      ]
     },
     "execution_count": 164,
     "metadata": {},
     "output_type": "execute_result"
    }
   ],
   "source": [
    "geneNames = de_results[source_timepoint][[source_cluster]].iloc[0:100].values\n",
    "fet_to_adult = calculate_lineage(geneNames, de_results, source_timepoint = 'Embryo',target_timepoint = 'Adult', source_cluster = '20_n')\n",
    "mapCount = get_mapped_gene_number(fet_to_adult, clusterName='0_n')\n",
    "mapCount"
   ]
  },
  {
   "cell_type": "code",
   "execution_count": 170,
   "id": "51c752d7-a8a3-4b02-826d-dcd69cc13aa3",
   "metadata": {},
   "outputs": [
    {
     "data": {
      "text/plain": [
       "AnnData object with n_obs × n_vars = 7272 × 11900\n",
       "    obs: 'batch', 'Sample', 'sum', 'detected', 'percent_top_50', 'percent_top_100', 'percent_top_200', 'percent_top_500', 'subsets_Mt_sum', 'subsets_Mt_detected', 'subsets_Mt_percent', 'total', 'CellCycle', 'sizeFactor', 'Clusters', 'graphClusters', 'cellType', 'Barcode', 'CellType', 'label', 'hclust', 'walktrap', 'louvain', 'replicate', 'condition', 'sex', 'merged.walktrap', 'merged.louvain', 'n_genes_by_counts', 'total_counts', 'total_counts_mt', 'pct_counts_mt', 'total_counts_ribo', 'pct_counts_ribo', 'total_counts_hb', 'pct_counts_hb', 'percent_chrY', 'n_counts', 'leiden', 'leiden_1.0', 'louvain_1.0', 'leiden_0.4', 'louvain_0.4', 'leiden_0.2', 'louvain_0.2', 'leiden_0.1', 'louvain_0.1', 'umap_density_Sample', 'TimePoints'\n",
       "    var: 'mean-0', 'detected-0', 'n_cells_by_counts-0', 'pct_dropout-0', 'PercentClust1-0', 'PercentClust2-0', 'PercentClust3-0', 'PercentClust4-0', 'PercentClust5-0', 'PercentClust6-0', 'PercentClust7-0', 'PercentClust8-0', 'PercentClust9-0', 'PercentClust10-0', 'PercentClust11-0', 'PercentClust12-0', 'PercentClust13-0', 'PercentClust14-0', 'PercentSample12W_rep1-0', 'PercentSample12W_rep2-0', 'PercentSample8W_rep1-0', 'PercentSample8W_rep2-0', 'PercentTotal-0', 'ID-1', 'Symbol-1', 'Type-1', 'SEQNAME-1', 'is_mito-1', 'mt', 'ribo', 'hb', 'n_cells_by_counts', 'mean_counts', 'pct_dropout_by_counts', 'total_counts', 'highly_variable', 'means', 'dispersions', 'dispersions_norm'\n",
       "    uns: 'Clusters_colors', 'Sample_colors', 'dendrogram_louvain_0.1', 'graphClusters_colors', 'hvg', 'leiden', 'leiden_0.1_colors', 'leiden_1.0_colors', 'louvain', 'louvain_0.1_colors', 'louvain_1.0_colors', 'neighbors', 'pca', 'rank_genes_groups', 'tsne', 'umap', 'umap_density_Sample_params'\n",
       "    obsm: 'X_pca', 'X_tsne', 'X_umap', 'tsne', 'umap'\n",
       "    varm: 'PCs'\n",
       "    obsp: 'connectivities', 'distances'"
      ]
     },
     "execution_count": 170,
     "metadata": {},
     "output_type": "execute_result"
    }
   ],
   "source": [
    "adata_list['Embryo']"
   ]
  },
  {
   "cell_type": "code",
   "execution_count": null,
   "id": "e2910e46-c907-493b-a3d1-06cc5dfe0c75",
   "metadata": {},
   "outputs": [],
   "source": []
  },
  {
   "cell_type": "code",
   "execution_count": null,
   "id": "9bed2dbd-c2d1-4e18-aa01-8221134b72db",
   "metadata": {},
   "outputs": [],
   "source": []
  },
  {
   "cell_type": "code",
   "execution_count": null,
   "id": "ab8d3fc1-3231-4574-b23f-763b802a1637",
   "metadata": {},
   "outputs": [],
   "source": []
  },
  {
   "cell_type": "code",
   "execution_count": null,
   "id": "a0edb7d2-b695-4d3b-8556-9572740462a2",
   "metadata": {},
   "outputs": [],
   "source": []
  },
  {
   "cell_type": "code",
   "execution_count": null,
   "id": "42118bc0-fb25-4e3e-b4dc-8f7272c5c0b6",
   "metadata": {},
   "outputs": [],
   "source": []
  },
  {
   "cell_type": "code",
   "execution_count": null,
   "id": "dfc2ef4b-1a99-4329-804f-766a4c2e9721",
   "metadata": {},
   "outputs": [],
   "source": []
  },
  {
   "cell_type": "code",
   "execution_count": 34,
   "id": "e86a0d78-185f-4d34-851c-d4ef21c17477",
   "metadata": {},
   "outputs": [
    {
     "data": {
      "text/plain": [
       "Index(['2_n', '2_p', '2_l', '4_n', '4_p', '4_l', '7_n', '7_p', '7_l', '10_n',\n",
       "       '10_p', '10_l', '17_n', '17_p', '17_l', '20_n', '20_p', '20_l'],\n",
       "      dtype='object')"
      ]
     },
     "execution_count": 34,
     "metadata": {},
     "output_type": "execute_result"
    }
   ],
   "source": [
    "de_results['Embryo'].columns"
   ]
  },
  {
   "cell_type": "code",
   "execution_count": 14,
   "id": "8b4c77b5-9872-4ef7-8e5f-fd9db32d3141",
   "metadata": {},
   "outputs": [],
   "source": [
    "geneName = de_results_embryo[['20_n']].iloc[0].values\n",
    "res = de_results_adult[de_results_adult.isin(geneName)].stack(0)    \n",
    "fet_to_adult = res.reset_index(level=[0,1])\n",
    " \n",
    "for i in range(1,de_results_embryo[['20_n']].shape[0]):\n",
    "    geneName = de_results_embryo[['20_n']].iloc[i].values\n",
    "    res = de_results_adult[de_results_adult.isin(geneName)].stack(0)    \n",
    "    fet_to_adult=pd.concat([fet_to_adult,res.reset_index(level=[0,1])], ignore_index=True)\n",
    "    \n",
    "fet_to_adult.rename(columns={'level_0':'row_rank','level_1':'cluster',0:'gene'}, inplace=True)"
   ]
  },
  {
   "cell_type": "code",
   "execution_count": 15,
   "id": "bf8b90d1-4fa2-49fe-9fd1-e21152dd2cca",
   "metadata": {},
   "outputs": [
    {
     "data": {
      "text/html": [
       "<div>\n",
       "<style scoped>\n",
       "    .dataframe tbody tr th:only-of-type {\n",
       "        vertical-align: middle;\n",
       "    }\n",
       "\n",
       "    .dataframe tbody tr th {\n",
       "        vertical-align: top;\n",
       "    }\n",
       "\n",
       "    .dataframe thead th {\n",
       "        text-align: right;\n",
       "    }\n",
       "</style>\n",
       "<table border=\"1\" class=\"dataframe\">\n",
       "  <thead>\n",
       "    <tr style=\"text-align: right;\">\n",
       "      <th></th>\n",
       "      <th>row_rank</th>\n",
       "      <th>cluster</th>\n",
       "      <th>gene</th>\n",
       "    </tr>\n",
       "  </thead>\n",
       "  <tbody>\n",
       "    <tr>\n",
       "      <th>0</th>\n",
       "      <td>31</td>\n",
       "      <td>11_n</td>\n",
       "      <td>TNS3</td>\n",
       "    </tr>\n",
       "    <tr>\n",
       "      <th>1</th>\n",
       "      <td>1358</td>\n",
       "      <td>11_n</td>\n",
       "      <td>FRMD4A</td>\n",
       "    </tr>\n",
       "    <tr>\n",
       "      <th>2</th>\n",
       "      <td>2218</td>\n",
       "      <td>0_n</td>\n",
       "      <td>FRMD4A</td>\n",
       "    </tr>\n",
       "    <tr>\n",
       "      <th>3</th>\n",
       "      <td>823</td>\n",
       "      <td>0_n</td>\n",
       "      <td>PRDM6</td>\n",
       "    </tr>\n",
       "    <tr>\n",
       "      <th>4</th>\n",
       "      <td>0</td>\n",
       "      <td>0_n</td>\n",
       "      <td>PRKG1</td>\n",
       "    </tr>\n",
       "    <tr>\n",
       "      <th>...</th>\n",
       "      <td>...</td>\n",
       "      <td>...</td>\n",
       "      <td>...</td>\n",
       "    </tr>\n",
       "    <tr>\n",
       "      <th>136</th>\n",
       "      <td>185</td>\n",
       "      <td>0_n</td>\n",
       "      <td>PBX1</td>\n",
       "    </tr>\n",
       "    <tr>\n",
       "      <th>137</th>\n",
       "      <td>574</td>\n",
       "      <td>0_n</td>\n",
       "      <td>PCDH7</td>\n",
       "    </tr>\n",
       "    <tr>\n",
       "      <th>138</th>\n",
       "      <td>1</td>\n",
       "      <td>18_n</td>\n",
       "      <td>ST6GALNAC3</td>\n",
       "    </tr>\n",
       "    <tr>\n",
       "      <th>139</th>\n",
       "      <td>1501</td>\n",
       "      <td>11_n</td>\n",
       "      <td>ST6GALNAC3</td>\n",
       "    </tr>\n",
       "    <tr>\n",
       "      <th>140</th>\n",
       "      <td>2616</td>\n",
       "      <td>11_n</td>\n",
       "      <td>AC092691.1</td>\n",
       "    </tr>\n",
       "  </tbody>\n",
       "</table>\n",
       "<p>141 rows × 3 columns</p>\n",
       "</div>"
      ],
      "text/plain": [
       "     row_rank cluster        gene\n",
       "0          31    11_n        TNS3\n",
       "1        1358    11_n      FRMD4A\n",
       "2        2218     0_n      FRMD4A\n",
       "3         823     0_n       PRDM6\n",
       "4           0     0_n       PRKG1\n",
       "..        ...     ...         ...\n",
       "136       185     0_n        PBX1\n",
       "137       574     0_n       PCDH7\n",
       "138         1    18_n  ST6GALNAC3\n",
       "139      1501    11_n  ST6GALNAC3\n",
       "140      2616    11_n  AC092691.1\n",
       "\n",
       "[141 rows x 3 columns]"
      ]
     },
     "execution_count": 15,
     "metadata": {},
     "output_type": "execute_result"
    }
   ],
   "source": [
    "fet_to_adult"
   ]
  },
  {
   "cell_type": "code",
   "execution_count": 16,
   "id": "82f2387d-317b-465d-a629-505ceca4f02b",
   "metadata": {},
   "outputs": [
    {
     "data": {
      "text/plain": [
       "cluster\n",
       "0_n     81\n",
       "18_n    33\n",
       "16_n    14\n",
       "11_n    13\n",
       "Name: count, dtype: int64"
      ]
     },
     "execution_count": 16,
     "metadata": {},
     "output_type": "execute_result"
    }
   ],
   "source": [
    "fet_to_adult.cluster.value_counts()"
   ]
  },
  {
   "cell_type": "code",
   "execution_count": 17,
   "id": "bf9bb9b4-d563-4a32-b9ed-307d97e8124e",
   "metadata": {},
   "outputs": [
    {
     "data": {
      "text/plain": [
       "Index(['GRID2', 'COL27A1', 'PRR16', 'COL21A1', 'OGN', 'UNC5C', 'ADGRL3',\n",
       "       'FBLN5', 'PTGIS', 'PBX1', 'EGFR', 'PRKD1', 'PDE5A', 'GRIP1', 'PCDH7',\n",
       "       'COL1A1', 'SORCS1', 'TMEM117', 'EFNB2', 'NPAS3', 'ANKRD44', 'MYH10',\n",
       "       'MEG3', 'EPHB2', 'COL14A1', 'TNS3', 'LRRN1', 'IL1RAPL1', 'PDE3A',\n",
       "       'PDGFRB', 'SLIT3', 'GRM7', 'PTPRD', 'APBB2', 'KCNQ1OT1', 'ADGRB3',\n",
       "       'SH3PXD2B', 'GPC6', 'EFNA5', 'MEIS1', 'SLIT2', 'FOXP2', 'PRKG1',\n",
       "       'PRDM6', 'NFIA', 'ROBO1', 'SMOC2', 'EDNRA', 'ANOS1', 'THSD7A', 'ELN',\n",
       "       'EXT1', 'COL5A1', 'MAP2', 'ZFHX4', 'GPC5', 'BOC', 'CNTNAP3B', 'CPE',\n",
       "       'MEST', 'CADM2', 'LRRTM4', 'KAZN', 'AC092691.1'],\n",
       "      dtype='object', name='gene')"
      ]
     },
     "execution_count": 17,
     "metadata": {},
     "output_type": "execute_result"
    }
   ],
   "source": [
    "fet_to_adult.gene.value_counts().index[fet_to_adult.gene.value_counts() <2]"
   ]
  },
  {
   "cell_type": "code",
   "execution_count": 18,
   "id": "b5545474-b87e-4606-a84f-1664ca229715",
   "metadata": {},
   "outputs": [
    {
     "data": {
      "text/html": [
       "<div>\n",
       "<style scoped>\n",
       "    .dataframe tbody tr th:only-of-type {\n",
       "        vertical-align: middle;\n",
       "    }\n",
       "\n",
       "    .dataframe tbody tr th {\n",
       "        vertical-align: top;\n",
       "    }\n",
       "\n",
       "    .dataframe thead th {\n",
       "        text-align: right;\n",
       "    }\n",
       "</style>\n",
       "<table border=\"1\" class=\"dataframe\">\n",
       "  <thead>\n",
       "    <tr style=\"text-align: right;\">\n",
       "      <th></th>\n",
       "      <th>row_rank</th>\n",
       "      <th>cluster</th>\n",
       "      <th>gene</th>\n",
       "    </tr>\n",
       "  </thead>\n",
       "  <tbody>\n",
       "    <tr>\n",
       "      <th>2</th>\n",
       "      <td>2218</td>\n",
       "      <td>0_n</td>\n",
       "      <td>FRMD4A</td>\n",
       "    </tr>\n",
       "    <tr>\n",
       "      <th>3</th>\n",
       "      <td>823</td>\n",
       "      <td>0_n</td>\n",
       "      <td>PRDM6</td>\n",
       "    </tr>\n",
       "    <tr>\n",
       "      <th>4</th>\n",
       "      <td>0</td>\n",
       "      <td>0_n</td>\n",
       "      <td>PRKG1</td>\n",
       "    </tr>\n",
       "    <tr>\n",
       "      <th>5</th>\n",
       "      <td>246</td>\n",
       "      <td>0_n</td>\n",
       "      <td>FOXP2</td>\n",
       "    </tr>\n",
       "    <tr>\n",
       "      <th>6</th>\n",
       "      <td>1030</td>\n",
       "      <td>0_n</td>\n",
       "      <td>LRP1B</td>\n",
       "    </tr>\n",
       "    <tr>\n",
       "      <th>...</th>\n",
       "      <td>...</td>\n",
       "      <td>...</td>\n",
       "      <td>...</td>\n",
       "    </tr>\n",
       "    <tr>\n",
       "      <th>132</th>\n",
       "      <td>397</td>\n",
       "      <td>0_n</td>\n",
       "      <td>GMDS</td>\n",
       "    </tr>\n",
       "    <tr>\n",
       "      <th>134</th>\n",
       "      <td>526</td>\n",
       "      <td>0_n</td>\n",
       "      <td>PTGIS</td>\n",
       "    </tr>\n",
       "    <tr>\n",
       "      <th>135</th>\n",
       "      <td>379</td>\n",
       "      <td>0_n</td>\n",
       "      <td>MYH10</td>\n",
       "    </tr>\n",
       "    <tr>\n",
       "      <th>136</th>\n",
       "      <td>185</td>\n",
       "      <td>0_n</td>\n",
       "      <td>PBX1</td>\n",
       "    </tr>\n",
       "    <tr>\n",
       "      <th>137</th>\n",
       "      <td>574</td>\n",
       "      <td>0_n</td>\n",
       "      <td>PCDH7</td>\n",
       "    </tr>\n",
       "  </tbody>\n",
       "</table>\n",
       "<p>81 rows × 3 columns</p>\n",
       "</div>"
      ],
      "text/plain": [
       "     row_rank cluster    gene\n",
       "2        2218     0_n  FRMD4A\n",
       "3         823     0_n   PRDM6\n",
       "4           0     0_n   PRKG1\n",
       "5         246     0_n   FOXP2\n",
       "6        1030     0_n   LRP1B\n",
       "..        ...     ...     ...\n",
       "132       397     0_n    GMDS\n",
       "134       526     0_n   PTGIS\n",
       "135       379     0_n   MYH10\n",
       "136       185     0_n    PBX1\n",
       "137       574     0_n   PCDH7\n",
       "\n",
       "[81 rows x 3 columns]"
      ]
     },
     "execution_count": 18,
     "metadata": {},
     "output_type": "execute_result"
    }
   ],
   "source": [
    "grouped = fet_to_adult.groupby(['cluster'])\n",
    "df1 = grouped.get_group(\"0_n\")\n",
    "df1"
   ]
  },
  {
   "cell_type": "code",
   "execution_count": 19,
   "id": "cada165c-3af4-46c6-881b-957d2cf57f4f",
   "metadata": {},
   "outputs": [
    {
     "data": {
      "text/html": [
       "<div>\n",
       "<style scoped>\n",
       "    .dataframe tbody tr th:only-of-type {\n",
       "        vertical-align: middle;\n",
       "    }\n",
       "\n",
       "    .dataframe tbody tr th {\n",
       "        vertical-align: top;\n",
       "    }\n",
       "\n",
       "    .dataframe thead th {\n",
       "        text-align: right;\n",
       "    }\n",
       "</style>\n",
       "<table border=\"1\" class=\"dataframe\">\n",
       "  <thead>\n",
       "    <tr style=\"text-align: right;\">\n",
       "      <th></th>\n",
       "      <th>row_rank</th>\n",
       "      <th>cluster</th>\n",
       "      <th>gene</th>\n",
       "    </tr>\n",
       "  </thead>\n",
       "  <tbody>\n",
       "    <tr>\n",
       "      <th>3</th>\n",
       "      <td>823</td>\n",
       "      <td>0_n</td>\n",
       "      <td>PRDM6</td>\n",
       "    </tr>\n",
       "    <tr>\n",
       "      <th>4</th>\n",
       "      <td>0</td>\n",
       "      <td>0_n</td>\n",
       "      <td>PRKG1</td>\n",
       "    </tr>\n",
       "    <tr>\n",
       "      <th>5</th>\n",
       "      <td>246</td>\n",
       "      <td>0_n</td>\n",
       "      <td>FOXP2</td>\n",
       "    </tr>\n",
       "    <tr>\n",
       "      <th>8</th>\n",
       "      <td>97</td>\n",
       "      <td>0_n</td>\n",
       "      <td>SLIT2</td>\n",
       "    </tr>\n",
       "    <tr>\n",
       "      <th>9</th>\n",
       "      <td>274</td>\n",
       "      <td>0_n</td>\n",
       "      <td>MEIS1</td>\n",
       "    </tr>\n",
       "  </tbody>\n",
       "</table>\n",
       "</div>"
      ],
      "text/plain": [
       "   row_rank cluster   gene\n",
       "3       823     0_n  PRDM6\n",
       "4         0     0_n  PRKG1\n",
       "5       246     0_n  FOXP2\n",
       "8        97     0_n  SLIT2\n",
       "9       274     0_n  MEIS1"
      ]
     },
     "execution_count": 19,
     "metadata": {},
     "output_type": "execute_result"
    }
   ],
   "source": [
    "df1[df1.gene.isin(fet_to_adult.gene.value_counts().index[fet_to_adult.gene.value_counts() <2])].head()"
   ]
  },
  {
   "cell_type": "code",
   "execution_count": 20,
   "id": "3f556813-1fca-4564-88ea-b745f7da20cb",
   "metadata": {},
   "outputs": [
    {
     "data": {
      "text/plain": [
       "(56, 3)"
      ]
     },
     "execution_count": 20,
     "metadata": {},
     "output_type": "execute_result"
    }
   ],
   "source": [
    "df1[df1.gene.isin(fet_to_adult.gene.value_counts().index[fet_to_adult.gene.value_counts() <2])].shape"
   ]
  },
  {
   "cell_type": "code",
   "execution_count": null,
   "id": "a39985bb-a6a0-47d9-9e0a-f50f506d42f5",
   "metadata": {},
   "outputs": [],
   "source": []
  },
  {
   "cell_type": "code",
   "execution_count": null,
   "id": "ec324ca9-27f9-4587-813a-b5c1955cb89f",
   "metadata": {},
   "outputs": [],
   "source": []
  },
  {
   "cell_type": "code",
   "execution_count": null,
   "id": "c47b5885-05b7-496e-8817-2fac363cd56d",
   "metadata": {},
   "outputs": [],
   "source": []
  },
  {
   "cell_type": "code",
   "execution_count": null,
   "id": "c9cd49e3-29b3-4a5b-8278-9f323b373654",
   "metadata": {},
   "outputs": [],
   "source": []
  },
  {
   "cell_type": "code",
   "execution_count": null,
   "id": "73e43f21-d7c6-4aaf-b25b-8c43f83a2110",
   "metadata": {},
   "outputs": [],
   "source": []
  },
  {
   "cell_type": "code",
   "execution_count": null,
   "id": "a2faabfd-abb6-4883-b300-a4d9c7806e48",
   "metadata": {},
   "outputs": [],
   "source": []
  },
  {
   "cell_type": "code",
   "execution_count": 256,
   "id": "cc224c36-d940-428e-8497-6d0b7d44f897",
   "metadata": {},
   "outputs": [
    {
     "data": {
      "text/plain": [
       "2     9_n     PRDM6\n",
       "231   6_n     PRDM6\n",
       "300   17_n    PRDM6\n",
       "2109  21_n    PRDM6\n",
       "3533  12_n    PRDM6\n",
       "dtype: object"
      ]
     },
     "execution_count": 256,
     "metadata": {},
     "output_type": "execute_result"
    }
   ],
   "source": [
    "res = de_results_fetal[de_results_fetal.isin(['PRDM6'])].stack(0)\n",
    "res"
   ]
  },
  {
   "cell_type": "code",
   "execution_count": 265,
   "id": "ac92336c-4ef9-4892-b8b9-a964ecb67abd",
   "metadata": {},
   "outputs": [
    {
     "data": {
      "text/html": [
       "<div>\n",
       "<style scoped>\n",
       "    .dataframe tbody tr th:only-of-type {\n",
       "        vertical-align: middle;\n",
       "    }\n",
       "\n",
       "    .dataframe tbody tr th {\n",
       "        vertical-align: top;\n",
       "    }\n",
       "\n",
       "    .dataframe thead th {\n",
       "        text-align: right;\n",
       "    }\n",
       "</style>\n",
       "<table border=\"1\" class=\"dataframe\">\n",
       "  <thead>\n",
       "    <tr style=\"text-align: right;\">\n",
       "      <th></th>\n",
       "      <th>level_0</th>\n",
       "      <th>level_1</th>\n",
       "      <th>0</th>\n",
       "    </tr>\n",
       "  </thead>\n",
       "  <tbody>\n",
       "    <tr>\n",
       "      <th>0</th>\n",
       "      <td>2</td>\n",
       "      <td>9_n</td>\n",
       "      <td>PRDM6</td>\n",
       "    </tr>\n",
       "    <tr>\n",
       "      <th>1</th>\n",
       "      <td>231</td>\n",
       "      <td>6_n</td>\n",
       "      <td>PRDM6</td>\n",
       "    </tr>\n",
       "    <tr>\n",
       "      <th>2</th>\n",
       "      <td>300</td>\n",
       "      <td>17_n</td>\n",
       "      <td>PRDM6</td>\n",
       "    </tr>\n",
       "    <tr>\n",
       "      <th>3</th>\n",
       "      <td>2109</td>\n",
       "      <td>21_n</td>\n",
       "      <td>PRDM6</td>\n",
       "    </tr>\n",
       "    <tr>\n",
       "      <th>4</th>\n",
       "      <td>3533</td>\n",
       "      <td>12_n</td>\n",
       "      <td>PRDM6</td>\n",
       "    </tr>\n",
       "  </tbody>\n",
       "</table>\n",
       "</div>"
      ],
      "text/plain": [
       "   level_0 level_1      0\n",
       "0        2     9_n  PRDM6\n",
       "1      231     6_n  PRDM6\n",
       "2      300    17_n  PRDM6\n",
       "3     2109    21_n  PRDM6\n",
       "4     3533    12_n  PRDM6"
      ]
     },
     "execution_count": 265,
     "metadata": {},
     "output_type": "execute_result"
    }
   ],
   "source": [
    "res.reset_index(level=[0,1])"
   ]
  },
  {
   "cell_type": "code",
   "execution_count": null,
   "id": "3d1bcd9d-98ff-44c2-b9f1-ebee27fc42fc",
   "metadata": {},
   "outputs": [],
   "source": []
  },
  {
   "cell_type": "code",
   "execution_count": null,
   "id": "85c3dc05-1b73-4ad0-ab9d-b125eb8b24f0",
   "metadata": {},
   "outputs": [],
   "source": []
  },
  {
   "cell_type": "code",
   "execution_count": null,
   "id": "00a7970d-9bee-4a09-b9b2-86fc25435b43",
   "metadata": {},
   "outputs": [],
   "source": []
  },
  {
   "cell_type": "code",
   "execution_count": null,
   "id": "99477c8f-28b7-43f7-adf1-e6506967e168",
   "metadata": {},
   "outputs": [],
   "source": []
  },
  {
   "cell_type": "code",
   "execution_count": null,
   "id": "1f831643-b5d1-4312-9205-d164ccaa4b58",
   "metadata": {},
   "outputs": [],
   "source": []
  },
  {
   "cell_type": "code",
   "execution_count": 76,
   "id": "a58f9be0-fd51-4b70-b6d0-d717d6422d92",
   "metadata": {},
   "outputs": [
    {
     "data": {
      "text/plain": [
       "{'Fetal': View of AnnData object with n_obs × n_vars = 17457 × 11900\n",
       "     obs: 'batch', 'Sample', 'sum', 'detected', 'percent_top_50', 'percent_top_100', 'percent_top_200', 'percent_top_500', 'subsets_Mt_sum', 'subsets_Mt_detected', 'subsets_Mt_percent', 'total', 'CellCycle', 'sizeFactor', 'Clusters', 'graphClusters', 'cellType', 'Barcode', 'CellType', 'label', 'hclust', 'walktrap', 'louvain', 'replicate', 'condition', 'sex', 'merged.walktrap', 'merged.louvain', 'n_genes_by_counts', 'total_counts', 'total_counts_mt', 'pct_counts_mt', 'total_counts_ribo', 'pct_counts_ribo', 'total_counts_hb', 'pct_counts_hb', 'percent_chrY', 'n_counts', 'leiden', 'leiden_1.0', 'louvain_1.0', 'leiden_0.4', 'louvain_0.4', 'leiden_0.2', 'louvain_0.2', 'leiden_0.1', 'louvain_0.1', 'umap_density_Sample', 'TimePoints'\n",
       "     var: 'mean-0', 'detected-0', 'n_cells_by_counts-0', 'pct_dropout-0', 'PercentClust1-0', 'PercentClust2-0', 'PercentClust3-0', 'PercentClust4-0', 'PercentClust5-0', 'PercentClust6-0', 'PercentClust7-0', 'PercentClust8-0', 'PercentClust9-0', 'PercentClust10-0', 'PercentClust11-0', 'PercentClust12-0', 'PercentClust13-0', 'PercentClust14-0', 'PercentSample12W_rep1-0', 'PercentSample12W_rep2-0', 'PercentSample8W_rep1-0', 'PercentSample8W_rep2-0', 'PercentTotal-0', 'ID-1', 'Symbol-1', 'Type-1', 'SEQNAME-1', 'is_mito-1', 'mt', 'ribo', 'hb', 'n_cells_by_counts', 'mean_counts', 'pct_dropout_by_counts', 'total_counts', 'highly_variable', 'means', 'dispersions', 'dispersions_norm'\n",
       "     uns: 'Clusters_colors', 'Sample_colors', 'dendrogram_louvain_0.1', 'graphClusters_colors', 'hvg', 'leiden', 'leiden_0.1_colors', 'leiden_1.0_colors', 'louvain', 'louvain_0.1_colors', 'louvain_1.0_colors', 'neighbors', 'pca', 'rank_genes_groups', 'tsne', 'umap', 'umap_density_Sample_params'\n",
       "     obsm: 'X_pca', 'X_tsne', 'X_umap', 'tsne', 'umap'\n",
       "     varm: 'PCs'\n",
       "     obsp: 'connectivities', 'distances',\n",
       " 'Embryo': View of AnnData object with n_obs × n_vars = 7279 × 11900\n",
       "     obs: 'batch', 'Sample', 'sum', 'detected', 'percent_top_50', 'percent_top_100', 'percent_top_200', 'percent_top_500', 'subsets_Mt_sum', 'subsets_Mt_detected', 'subsets_Mt_percent', 'total', 'CellCycle', 'sizeFactor', 'Clusters', 'graphClusters', 'cellType', 'Barcode', 'CellType', 'label', 'hclust', 'walktrap', 'louvain', 'replicate', 'condition', 'sex', 'merged.walktrap', 'merged.louvain', 'n_genes_by_counts', 'total_counts', 'total_counts_mt', 'pct_counts_mt', 'total_counts_ribo', 'pct_counts_ribo', 'total_counts_hb', 'pct_counts_hb', 'percent_chrY', 'n_counts', 'leiden', 'leiden_1.0', 'louvain_1.0', 'leiden_0.4', 'louvain_0.4', 'leiden_0.2', 'louvain_0.2', 'leiden_0.1', 'louvain_0.1', 'umap_density_Sample', 'TimePoints'\n",
       "     var: 'mean-0', 'detected-0', 'n_cells_by_counts-0', 'pct_dropout-0', 'PercentClust1-0', 'PercentClust2-0', 'PercentClust3-0', 'PercentClust4-0', 'PercentClust5-0', 'PercentClust6-0', 'PercentClust7-0', 'PercentClust8-0', 'PercentClust9-0', 'PercentClust10-0', 'PercentClust11-0', 'PercentClust12-0', 'PercentClust13-0', 'PercentClust14-0', 'PercentSample12W_rep1-0', 'PercentSample12W_rep2-0', 'PercentSample8W_rep1-0', 'PercentSample8W_rep2-0', 'PercentTotal-0', 'ID-1', 'Symbol-1', 'Type-1', 'SEQNAME-1', 'is_mito-1', 'mt', 'ribo', 'hb', 'n_cells_by_counts', 'mean_counts', 'pct_dropout_by_counts', 'total_counts', 'highly_variable', 'means', 'dispersions', 'dispersions_norm'\n",
       "     uns: 'Clusters_colors', 'Sample_colors', 'dendrogram_louvain_0.1', 'graphClusters_colors', 'hvg', 'leiden', 'leiden_0.1_colors', 'leiden_1.0_colors', 'louvain', 'louvain_0.1_colors', 'louvain_1.0_colors', 'neighbors', 'pca', 'rank_genes_groups', 'tsne', 'umap', 'umap_density_Sample_params'\n",
       "     obsm: 'X_pca', 'X_tsne', 'X_umap', 'tsne', 'umap'\n",
       "     varm: 'PCs'\n",
       "     obsp: 'connectivities', 'distances',\n",
       " 'Adult': View of AnnData object with n_obs × n_vars = 5430 × 11900\n",
       "     obs: 'batch', 'Sample', 'sum', 'detected', 'percent_top_50', 'percent_top_100', 'percent_top_200', 'percent_top_500', 'subsets_Mt_sum', 'subsets_Mt_detected', 'subsets_Mt_percent', 'total', 'CellCycle', 'sizeFactor', 'Clusters', 'graphClusters', 'cellType', 'Barcode', 'CellType', 'label', 'hclust', 'walktrap', 'louvain', 'replicate', 'condition', 'sex', 'merged.walktrap', 'merged.louvain', 'n_genes_by_counts', 'total_counts', 'total_counts_mt', 'pct_counts_mt', 'total_counts_ribo', 'pct_counts_ribo', 'total_counts_hb', 'pct_counts_hb', 'percent_chrY', 'n_counts', 'leiden', 'leiden_1.0', 'louvain_1.0', 'leiden_0.4', 'louvain_0.4', 'leiden_0.2', 'louvain_0.2', 'leiden_0.1', 'louvain_0.1', 'umap_density_Sample', 'TimePoints'\n",
       "     var: 'mean-0', 'detected-0', 'n_cells_by_counts-0', 'pct_dropout-0', 'PercentClust1-0', 'PercentClust2-0', 'PercentClust3-0', 'PercentClust4-0', 'PercentClust5-0', 'PercentClust6-0', 'PercentClust7-0', 'PercentClust8-0', 'PercentClust9-0', 'PercentClust10-0', 'PercentClust11-0', 'PercentClust12-0', 'PercentClust13-0', 'PercentClust14-0', 'PercentSample12W_rep1-0', 'PercentSample12W_rep2-0', 'PercentSample8W_rep1-0', 'PercentSample8W_rep2-0', 'PercentTotal-0', 'ID-1', 'Symbol-1', 'Type-1', 'SEQNAME-1', 'is_mito-1', 'mt', 'ribo', 'hb', 'n_cells_by_counts', 'mean_counts', 'pct_dropout_by_counts', 'total_counts', 'highly_variable', 'means', 'dispersions', 'dispersions_norm'\n",
       "     uns: 'Clusters_colors', 'Sample_colors', 'dendrogram_louvain_0.1', 'graphClusters_colors', 'hvg', 'leiden', 'leiden_0.1_colors', 'leiden_1.0_colors', 'louvain', 'louvain_0.1_colors', 'louvain_1.0_colors', 'neighbors', 'pca', 'rank_genes_groups', 'tsne', 'umap', 'umap_density_Sample_params'\n",
       "     obsm: 'X_pca', 'X_tsne', 'X_umap', 'tsne', 'umap'\n",
       "     varm: 'PCs'\n",
       "     obsp: 'connectivities', 'distances'}"
      ]
     },
     "execution_count": 76,
     "metadata": {},
     "output_type": "execute_result"
    }
   ],
   "source": [
    "adata_list"
   ]
  },
  {
   "cell_type": "code",
   "execution_count": null,
   "id": "e7aec8b8-d331-4135-b8ee-29c1a51c4786",
   "metadata": {},
   "outputs": [],
   "source": []
  },
  {
   "cell_type": "code",
   "execution_count": null,
   "id": "8aacd738-d36b-48a7-ae3a-32771e977223",
   "metadata": {},
   "outputs": [],
   "source": []
  },
  {
   "cell_type": "code",
   "execution_count": null,
   "id": "4196359e-6ffb-44d9-baa6-e91c99c3ac35",
   "metadata": {},
   "outputs": [],
   "source": []
  },
  {
   "cell_type": "code",
   "execution_count": null,
   "id": "41623fad-dea6-4976-9314-0ed9568e2c28",
   "metadata": {},
   "outputs": [],
   "source": []
  }
 ],
 "metadata": {
  "kernelspec": {
   "display_name": "Python 3 (ipykernel)",
   "language": "python",
   "name": "python3"
  },
  "language_info": {
   "codemirror_mode": {
    "name": "ipython",
    "version": 3
   },
   "file_extension": ".py",
   "mimetype": "text/x-python",
   "name": "python",
   "nbconvert_exporter": "python",
   "pygments_lexer": "ipython3",
   "version": "3.9.7"
  }
 },
 "nbformat": 4,
 "nbformat_minor": 5
}
